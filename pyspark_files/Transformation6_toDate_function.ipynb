{
  "nbformat": 4,
  "nbformat_minor": 2,
  "cells": [
    {
      "cell_type": "code",
      "execution_count": 1,
      "outputs": [
        {
          "output_type": "display_data",
          "data": {
            "application/vnd.livy.statement-meta+json": {
              "spark_pool": "SmallPool",
              "statement_id": 2,
              "statement_ids": [
                2
              ],
              "state": "finished",
              "livy_statement_state": "available",
              "spark_jobs": null,
              "session_id": "29",
              "normalized_state": "finished",
              "queued_time": "2024-09-24T19:20:05.8369089Z",
              "session_start_time": "2024-09-24T19:20:05.8717139Z",
              "execution_start_time": "2024-09-24T19:23:32.1254403Z",
              "execution_finish_time": "2024-09-24T19:23:32.3026505Z",
              "parent_msg_id": "e5a878ab-8933-4b41-87a5-8eeb4173986d"
            },
            "text/plain": "StatementMeta(SmallPool, 29, 2, Finished, Available, Finished)"
          },
          "metadata": {}
        },
        {
          "output_type": "execute_result",
          "data": {
            "text/plain": "<SparkContext master=yarn appName=Transformation6_toDate_function_SmallPool_1727205605>",
            "text/html": "\n        <div>\n            <p><b>SparkContext</b></p>\n\n            <p><a href=\"https://web.azuresynapse.net/sparkui/c2d14930-74a1-4506-b845-b6a482347c34/workspaces/srilekhasynapseworkspace/sparkpools/SmallPool/sessions/29/applications/application_1727205687538_0001\">Spark UI</a></p>\n\n            <dl>\n              <dt>Version</dt>\n                <dd><code>v3.4.3.5.3.20240828.1</code></dd>\n              <dt>Master</dt>\n                <dd><code>yarn</code></dd>\n              <dt>AppName</dt>\n                <dd><code>Transformation6_toDate_function_SmallPool_1727205605</code></dd>\n            </dl>\n        </div>\n        "
          },
          "execution_count": 5,
          "metadata": {}
        }
      ],
      "metadata": {
        "jupyter": {
          "source_hidden": false,
          "outputs_hidden": false
        },
        "nteract": {
          "transient": {
            "deleting": false
          }
        }
      },
      "source": [
        "sc"
      ]
    },
    {
      "cell_type": "markdown",
      "metadata": {
        "nteract": {
          "transient": {
            "deleting": false
          }
        }
      },
      "source": [
        "Execute the 'mount_configuration' notebook to access the mount"
      ]
    },
    {
      "cell_type": "code",
      "execution_count": 3,
      "outputs": [
        {
          "output_type": "display_data",
          "data": {
            "application/vnd.livy.statement-meta+json": {
              "spark_pool": "SmallPool",
              "statement_id": 4,
              "statement_ids": [
                4
              ],
              "state": "finished",
              "livy_statement_state": "available",
              "spark_jobs": null,
              "session_id": "29",
              "normalized_state": "finished",
              "queued_time": "2024-09-24T19:23:52.0473544Z",
              "session_start_time": null,
              "execution_start_time": "2024-09-24T19:23:52.2128825Z",
              "execution_finish_time": "2024-09-24T19:24:02.9208035Z",
              "parent_msg_id": "0095005d-b585-4959-949f-4107c0dc7b51"
            },
            "text/plain": "StatementMeta(SmallPool, 29, 4, Finished, Available, Finished)"
          },
          "metadata": {}
        },
        {
          "output_type": "display_data",
          "data": {
            "application/vnd.synapse.mssparkutilsrun-result+json": {
              "run_id": "046d9e52-4f99-42b3-b826-e6be937586fa",
              "in_pipeline": false,
              "notebook_name": "mount_configuration",
              "snapshot_path": "/runNotebookApi/versions/1/run/046d9e52-4f99-42b3-b826-e6be937586fa/snapshot",
              "error": null,
              "session_id": "29",
              "spark_pool": "SmallPool",
              "capacity_id": null,
              "workspace_id": null,
              "root_artifact_id": null,
              "artifact_id": null,
              "snapshot_status": "success",
              "snapshot_error": null
            }
          },
          "metadata": {}
        },
        {
          "output_type": "execute_result",
          "data": {
            "text/plain": "'Mounting'"
          },
          "execution_count": 9,
          "metadata": {}
        }
      ],
      "metadata": {},
      "source": [
        "mssparkutils.notebook.run('mount_configuration')"
      ]
    },
    {
      "cell_type": "markdown",
      "metadata": {
        "nteract": {
          "transient": {
            "deleting": false
          }
        }
      },
      "source": [
        "Create a variable to store the mount_point"
      ]
    },
    {
      "cell_type": "code",
      "execution_count": 4,
      "outputs": [
        {
          "output_type": "display_data",
          "data": {
            "application/vnd.livy.statement-meta+json": {
              "spark_pool": "SmallPool",
              "statement_id": 5,
              "statement_ids": [
                5
              ],
              "state": "finished",
              "livy_statement_state": "available",
              "spark_jobs": null,
              "session_id": "29",
              "normalized_state": "finished",
              "queued_time": "2024-09-24T19:24:07.481323Z",
              "session_start_time": null,
              "execution_start_time": "2024-09-24T19:24:07.6072725Z",
              "execution_finish_time": "2024-09-24T19:24:07.7679683Z",
              "parent_msg_id": "39b88b0e-69f1-47fa-8ff0-273201f7ac90"
            },
            "text/plain": "StatementMeta(SmallPool, 29, 5, Finished, Available, Finished)"
          },
          "metadata": {}
        }
      ],
      "metadata": {
        "jupyter": {
          "source_hidden": false,
          "outputs_hidden": false
        },
        "nteract": {
          "transient": {
            "deleting": false
          }
        }
      },
      "source": [
        "job_id = mssparkutils.env.getJobId()\r\n",
        "mount_point = 'synfs:/notebook/'+job_id+'/lake'"
      ]
    },
    {
      "cell_type": "markdown",
      "metadata": {
        "nteract": {
          "transient": {
            "deleting": false
          }
        }
      },
      "source": [
        "Reading the source file"
      ]
    },
    {
      "cell_type": "code",
      "execution_count": 5,
      "outputs": [
        {
          "output_type": "display_data",
          "data": {
            "application/vnd.livy.statement-meta+json": {
              "spark_pool": "SmallPool",
              "statement_id": 6,
              "statement_ids": [
                6
              ],
              "state": "finished",
              "livy_statement_state": "available",
              "spark_jobs": null,
              "session_id": "29",
              "normalized_state": "finished",
              "queued_time": "2024-09-24T19:24:11.4835088Z",
              "session_start_time": null,
              "execution_start_time": "2024-09-24T19:24:11.6485167Z",
              "execution_finish_time": "2024-09-24T19:24:26.5217419Z",
              "parent_msg_id": "1d0851f5-dae2-44d0-9382-7378af8fd784"
            },
            "text/plain": "StatementMeta(SmallPool, 29, 6, Finished, Available, Finished)"
          },
          "metadata": {}
        }
      ],
      "metadata": {
        "jupyter": {
          "source_hidden": false,
          "outputs_hidden": false
        },
        "nteract": {
          "transient": {
            "deleting": false
          }
        }
      },
      "source": [
        "df = spark.read.parquet(mount_point+'/WindowFunctions/*.parquet')"
      ]
    },
    {
      "cell_type": "code",
      "execution_count": 6,
      "outputs": [
        {
          "output_type": "display_data",
          "data": {
            "application/vnd.livy.statement-meta+json": {
              "spark_pool": "SmallPool",
              "statement_id": 7,
              "statement_ids": [
                7
              ],
              "state": "finished",
              "livy_statement_state": "available",
              "spark_jobs": null,
              "session_id": "29",
              "normalized_state": "finished",
              "queued_time": "2024-09-24T19:24:35.1570269Z",
              "session_start_time": null,
              "execution_start_time": "2024-09-24T19:24:35.2884575Z",
              "execution_finish_time": "2024-09-24T19:24:35.4537648Z",
              "parent_msg_id": "4f3e2a1a-bee3-42a2-a264-965f764fe2bb"
            },
            "text/plain": "StatementMeta(SmallPool, 29, 7, Finished, Available, Finished)"
          },
          "metadata": {}
        },
        {
          "output_type": "stream",
          "name": "stdout",
          "text": "root\n |-- Education_Level: string (nullable = true)\n |-- Line_Number: long (nullable = true)\n |-- Year: long (nullable = true)\n |-- Month: string (nullable = true)\n |-- State: string (nullable = true)\n |-- Labor_Force: long (nullable = true)\n |-- Employed: long (nullable = true)\n |-- Unemployed: long (nullable = true)\n |-- Industry: string (nullable = true)\n |-- Gender: string (nullable = true)\n |-- Date_Inserted: string (nullable = true)\n |-- Aggregation_Level: string (nullable = true)\n |-- Data_Accuracy: string (nullable = true)\n |-- UnEmployed_Rate_Percentage: double (nullable = true)\n |-- Min_Salary_USD: integer (nullable = true)\n |-- Max_Salary_USD: integer (nullable = true)\n |-- Dense_Rank: integer (nullable = true)\n\n"
        }
      ],
      "metadata": {
        "jupyter": {
          "source_hidden": false,
          "outputs_hidden": false
        },
        "nteract": {
          "transient": {
            "deleting": false
          }
        }
      },
      "source": [
        "df.printSchema()"
      ]
    },
    {
      "cell_type": "markdown",
      "metadata": {
        "nteract": {
          "transient": {
            "deleting": false
          }
        }
      },
      "source": [
        "Transforming the string type data into date type format."
      ]
    },
    {
      "cell_type": "code",
      "execution_count": 8,
      "outputs": [
        {
          "output_type": "display_data",
          "data": {
            "application/vnd.livy.statement-meta+json": {
              "spark_pool": "SmallPool",
              "statement_id": 9,
              "statement_ids": [
                9
              ],
              "state": "finished",
              "livy_statement_state": "available",
              "spark_jobs": null,
              "session_id": "29",
              "normalized_state": "finished",
              "queued_time": "2024-09-24T19:25:05.7570576Z",
              "session_start_time": null,
              "execution_start_time": "2024-09-24T19:25:05.9302693Z",
              "execution_finish_time": "2024-09-24T19:25:06.0981802Z",
              "parent_msg_id": "0592ac0f-215b-4404-ac69-0bb4028ed7c2"
            },
            "text/plain": "StatementMeta(SmallPool, 29, 9, Finished, Available, Finished)"
          },
          "metadata": {}
        }
      ],
      "metadata": {
        "jupyter": {
          "source_hidden": false,
          "outputs_hidden": false
        },
        "nteract": {
          "transient": {
            "deleting": false
          }
        }
      },
      "source": [
        "from pyspark.sql import functions as F\r\n",
        "df_date = df.withColumn('Date_Inserted',F.to_date('Date_Inserted','M/d/y'))"
      ]
    },
    {
      "cell_type": "code",
      "execution_count": 9,
      "outputs": [
        {
          "output_type": "display_data",
          "data": {
            "application/vnd.livy.statement-meta+json": {
              "spark_pool": "SmallPool",
              "statement_id": 10,
              "statement_ids": [
                10
              ],
              "state": "finished",
              "livy_statement_state": "available",
              "spark_jobs": null,
              "session_id": "29",
              "normalized_state": "finished",
              "queued_time": "2024-09-24T19:25:08.6636328Z",
              "session_start_time": null,
              "execution_start_time": "2024-09-24T19:25:08.7933905Z",
              "execution_finish_time": "2024-09-24T19:25:08.9607717Z",
              "parent_msg_id": "ce700f6a-4588-42b5-844e-b90af6d6e817"
            },
            "text/plain": "StatementMeta(SmallPool, 29, 10, Finished, Available, Finished)"
          },
          "metadata": {}
        },
        {
          "output_type": "stream",
          "name": "stdout",
          "text": "root\n |-- Education_Level: string (nullable = true)\n |-- Line_Number: long (nullable = true)\n |-- Year: long (nullable = true)\n |-- Month: string (nullable = true)\n |-- State: string (nullable = true)\n |-- Labor_Force: long (nullable = true)\n |-- Employed: long (nullable = true)\n |-- Unemployed: long (nullable = true)\n |-- Industry: string (nullable = true)\n |-- Gender: string (nullable = true)\n |-- Date_Inserted: date (nullable = true)\n |-- Aggregation_Level: string (nullable = true)\n |-- Data_Accuracy: string (nullable = true)\n |-- UnEmployed_Rate_Percentage: double (nullable = true)\n |-- Min_Salary_USD: integer (nullable = true)\n |-- Max_Salary_USD: integer (nullable = true)\n |-- Dense_Rank: integer (nullable = true)\n\n"
        }
      ],
      "metadata": {
        "jupyter": {
          "source_hidden": false,
          "outputs_hidden": false
        },
        "nteract": {
          "transient": {
            "deleting": false
          }
        }
      },
      "source": [
        "df_date.printSchema()"
      ]
    },
    {
      "cell_type": "markdown",
      "metadata": {
        "nteract": {
          "transient": {
            "deleting": false
          }
        }
      },
      "source": [
        "Writing the data into destination"
      ]
    },
    {
      "cell_type": "code",
      "execution_count": 10,
      "outputs": [
        {
          "output_type": "display_data",
          "data": {
            "application/vnd.livy.statement-meta+json": {
              "spark_pool": "SmallPool",
              "statement_id": 11,
              "statement_ids": [
                11
              ],
              "state": "finished",
              "livy_statement_state": "available",
              "spark_jobs": null,
              "session_id": "29",
              "normalized_state": "finished",
              "queued_time": "2024-09-24T19:25:12.8593875Z",
              "session_start_time": null,
              "execution_start_time": "2024-09-24T19:25:12.9947432Z",
              "execution_finish_time": "2024-09-24T19:25:32.8404876Z",
              "parent_msg_id": "58800fa5-f739-47e7-aa85-8d1344735579"
            },
            "text/plain": "StatementMeta(SmallPool, 29, 11, Finished, Available, Finished)"
          },
          "metadata": {}
        }
      ],
      "metadata": {
        "jupyter": {
          "source_hidden": false,
          "outputs_hidden": false
        },
        "nteract": {
          "transient": {
            "deleting": false
          }
        }
      },
      "source": [
        "df_date.write.format('parquet')\\\r\n",
        "             .mode('overwrite')\\\r\n",
        "             .save(mount_point+'/DateFunction')"
      ]
    }
  ],
  "metadata": {
    "description": null,
    "save_output": true,
    "kernelspec": {
      "name": "synapse_pyspark",
      "display_name": "python"
    },
    "language_info": {
      "name": "python"
    },
    "synapse_widget": {
      "version": "0.1",
      "state": {}
    }
  }
}