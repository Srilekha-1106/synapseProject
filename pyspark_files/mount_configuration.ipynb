{
  "cells": [
    {
      "cell_type": "code",
      "source": [
        "sc"
      ],
      "outputs": [
        {
          "output_type": "display_data",
          "data": {
            "application/vnd.livy.statement-meta+json": {
              "spark_pool": "SmallPool",
              "statement_id": 5,
              "statement_ids": [
                5
              ],
              "state": "finished",
              "livy_statement_state": "available",
              "spark_jobs": null,
              "session_id": "17",
              "normalized_state": "finished",
              "queued_time": "2024-09-20T18:55:57.9124739Z",
              "session_start_time": null,
              "execution_start_time": "2024-09-20T18:56:05.384543Z",
              "execution_finish_time": "2024-09-20T18:56:05.5665368Z",
              "parent_msg_id": "8e0b68fa-3d93-45dd-8bd6-6e26f0a6520b"
            },
            "text/plain": "StatementMeta(SmallPool, 17, 5, Finished, Available, Finished)"
          },
          "metadata": {}
        },
        {
          "output_type": "execute_result",
          "execution_count": 11,
          "data": {
            "text/plain": "<SparkContext master=yarn appName=accessing_mount_configuration_SmallPool_1726858359>",
            "text/html": "\n        <div>\n            <p><b>SparkContext</b></p>\n\n            <p><a href=\"https://web.azuresynapse.net/sparkui/c2d14930-74a1-4506-b845-b6a482347c34/workspaces/srilekhasynapseworkspace/sparkpools/SmallPool/sessions/17/applications/application_1726858436502_0001\">Spark UI</a></p>\n\n            <dl>\n              <dt>Version</dt>\n                <dd><code>v3.4.3.5.3.20240828.1</code></dd>\n              <dt>Master</dt>\n                <dd><code>yarn</code></dd>\n              <dt>AppName</dt>\n                <dd><code>accessing_mount_configuration_SmallPool_1726858359</code></dd>\n            </dl>\n        </div>\n        "
          },
          "metadata": {}
        }
      ],
      "execution_count": 2,
      "metadata": {}
    },
    {
      "cell_type": "markdown",
      "source": [
        "Creating a mount pointing to the storage account provided"
      ],
      "metadata": {
        "nteract": {
          "transient": {
            "deleting": false
          }
        }
      }
    },
    {
      "cell_type": "code",
      "source": [
        "mssparkutils.fs.mount(\r\n",
        "    'abfss://refined@srilekhasynapsestrgacc.dfs.core.windows.net/',\r\n",
        "    '/lake',\r\n",
        "    {\"LinkedService\":\"srilekhasynapseworkspace-WorkspaceDefaultStorage\"})"
      ],
      "outputs": [
        {
          "output_type": "display_data",
          "data": {
            "application/vnd.livy.statement-meta+json": {
              "spark_pool": "SmallPool",
              "statement_id": 7,
              "statement_ids": [
                7
              ],
              "state": "finished",
              "livy_statement_state": "available",
              "spark_jobs": null,
              "session_id": "17",
              "normalized_state": "finished",
              "queued_time": "2024-09-20T18:56:19.0163326Z",
              "session_start_time": null,
              "execution_start_time": "2024-09-20T18:56:19.1454265Z",
              "execution_finish_time": "2024-09-20T18:56:21.0167532Z",
              "parent_msg_id": "2a7a42e0-c11c-4896-9aac-cb95f09c7200"
            },
            "text/plain": "StatementMeta(SmallPool, 17, 7, Finished, Available, Finished)"
          },
          "metadata": {}
        },
        {
          "output_type": "execute_result",
          "execution_count": 15,
          "data": {
            "text/plain": "True"
          },
          "metadata": {}
        }
      ],
      "execution_count": 4,
      "metadata": {
        "jupyter": {
          "source_hidden": false,
          "outputs_hidden": false
        },
        "nteract": {
          "transient": {
            "deleting": false
          }
        }
      }
    },
    {
      "cell_type": "markdown",
      "source": [
        "Check whether the mount is created or not"
      ],
      "metadata": {
        "nteract": {
          "transient": {
            "deleting": false
          }
        }
      }
    },
    {
      "cell_type": "code",
      "source": [
        "mssparkutils.fs.mounts()"
      ],
      "outputs": [
        {
          "output_type": "display_data",
          "data": {
            "application/vnd.livy.statement-meta+json": {
              "spark_pool": "SmallPool",
              "statement_id": 11,
              "statement_ids": [
                11
              ],
              "state": "finished",
              "livy_statement_state": "available",
              "spark_jobs": null,
              "session_id": "17",
              "normalized_state": "finished",
              "queued_time": "2024-09-20T18:56:49.9363884Z",
              "session_start_time": null,
              "execution_start_time": "2024-09-20T18:56:50.0650975Z",
              "execution_finish_time": "2024-09-20T18:56:50.2449477Z",
              "parent_msg_id": "30c00ec7-6a80-463a-8e00-e7e6f1a4c217"
            },
            "text/plain": "StatementMeta(SmallPool, 17, 11, Finished, Available, Finished)"
          },
          "metadata": {}
        },
        {
          "output_type": "execute_result",
          "execution_count": 23,
          "data": {
            "text/plain": "[MountPointInfo(mountPoint=/lake, source=abfss://refined@srilekhasynapsestrgacc.dfs.core.windows.net/, linkedService=storage, scope=job)]"
          },
          "metadata": {}
        }
      ],
      "execution_count": 8,
      "metadata": {
        "jupyter": {
          "source_hidden": false,
          "outputs_hidden": false
        },
        "nteract": {
          "transient": {
            "deleting": false
          }
        }
      }
    },
    {
      "cell_type": "markdown",
      "source": [
        "This is used when running this notebook within other notebooks to signal that it has been executed."
      ],
      "metadata": {
        "nteract": {
          "transient": {
            "deleting": false
          }
        }
      }
    },
    {
      "cell_type": "code",
      "source": [
        "mssparkutils.notebook.exit('Mounting')"
      ],
      "outputs": [],
      "execution_count": null,
      "metadata": {
        "jupyter": {
          "source_hidden": false,
          "outputs_hidden": false
        },
        "nteract": {
          "transient": {
            "deleting": false
          }
        }
      }
    }
  ],
  "metadata": {
    "language_info": {
      "name": "python"
    },
    "kernelspec": {
      "name": "synapse_pyspark",
      "display_name": "python"
    },
    "description": null,
    "save_output": true,
    "synapse_widget": {
      "version": "0.1",
      "state": {}
    }
  },
  "nbformat": 4,
  "nbformat_minor": 2
}